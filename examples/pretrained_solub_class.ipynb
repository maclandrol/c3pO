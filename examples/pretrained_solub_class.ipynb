{
 "cells": [
  {
   "cell_type": "code",
   "execution_count": 1,
   "source": [
    "%load_ext autoreload\n",
    "%autoreload 2"
   ],
   "outputs": [],
   "metadata": {}
  },
  {
   "cell_type": "code",
   "execution_count": 2,
   "source": [
    "import numpy as np\n",
    "import datamol as dm\n",
    "from sklearn.ensemble import RandomForestClassifier\n",
    "from sklearn import preprocessing\n",
    "from sklearn.model_selection import train_test_split\n",
    "\n",
    "from rdkit.Chem import RDConfig\n",
    "from c3pO.icp import ICPClassifier\n",
    "from c3pO.base import ModelWrapper\n",
    "from c3pO.nc.classifier import MarginErrFunc, ClassifierNC\n",
    "from molfeat.trans.fp import FPVecTransformer\n",
    "from sklearn.pipeline import Pipeline\n",
    "\n",
    "    "
   ],
   "outputs": [
    {
     "output_type": "stream",
     "name": "stderr",
     "text": [
      "Using backend: pytorch\n",
      "/Users/manu/.miniconda/envs/expts/lib/python3.7/site-packages/pytorch_lightning/metrics/__init__.py:44: LightningDeprecationWarning: `pytorch_lightning.metrics.*` module has been renamed to `torchmetrics.*` and split off to its own package (https://github.com/PyTorchLightning/metrics) since v1.3 and will be removed in v1.5\n",
      "  \"`pytorch_lightning.metrics.*` module has been renamed to `torchmetrics.*` and split off to its own package\"\n"
     ]
    }
   ],
   "metadata": {}
  },
  {
   "cell_type": "markdown",
   "source": [
    "## Loading data"
   ],
   "metadata": {}
  },
  {
   "cell_type": "code",
   "execution_count": 49,
   "source": [
    "\n",
    "train_path = os.path.join(RDConfig.RDDocsDir, 'Book/data/solubility.train.sdf')\n",
    "test_path =  os.path.join(RDConfig.RDDocsDir, 'Book/data/solubility.test.sdf')\n",
    "\n",
    "mol_transformer = FPVecTransformer(\"desc2D\")\n",
    "\n",
    "train_df = dm.read_sdf(train_path, as_df=True)\n",
    "test_df = dm.read_sdf(test_path, as_df=True)\n",
    "train_df = train_df.loc[:,~train_df.columns.duplicated()]\n",
    "test_df = test_df.loc[:,~test_df.columns.duplicated()]\n"
   ],
   "outputs": [
    {
     "output_type": "stream",
     "name": "stderr",
     "text": [
      "2021-10-12 19:26:24.622 | WARNING  | datamol.convert:to_df:296 - The SMILES column name provided ('smiles') is already present in the properties of the molecules. THe returned dataframe will two columns with the same name.\n"
     ]
    }
   ],
   "metadata": {}
  },
  {
   "cell_type": "code",
   "execution_count": 50,
   "source": [
    "label_encoder =  preprocessing.LabelEncoder()\n",
    "label_encoder.fit(train_df[\"SOL_classification\"])\n",
    "label_encoder.classes_"
   ],
   "outputs": [
    {
     "output_type": "execute_result",
     "data": {
      "text/plain": [
       "array(['(A) low', '(B) medium', '(C) high'], dtype=object)"
      ]
     },
     "metadata": {},
     "execution_count": 50
    }
   ],
   "metadata": {}
  },
  {
   "cell_type": "code",
   "execution_count": 51,
   "source": [
    "# random split\n",
    "train_df[\"Y\"]  = label_encoder.transform(train_df[\"SOL_classification\"])\n",
    "test_df[\"Y\"]  = label_encoder.transform(test_df[\"SOL_classification\"])\n",
    "train_df, calib_df = train_test_split(train_df, test_size=0.25, random_state=1234)"
   ],
   "outputs": [],
   "metadata": {}
  },
  {
   "cell_type": "code",
   "execution_count": 52,
   "source": [
    "clf = RandomForestClassifier()\n",
    "pipe = Pipeline([('feat', mol_transformer), ('rf', clf)])\n",
    "pipe.fit(train_df.smiles.values, train_df.Y.values)\n"
   ],
   "outputs": [
    {
     "output_type": "execute_result",
     "data": {
      "text/plain": [
       "Pipeline(steps=[('feat', FPVecTransformer(kind='desc2D')),\n",
       "                ('rf', RandomForestClassifier())])"
      ]
     },
     "metadata": {},
     "execution_count": 52
    }
   ],
   "metadata": {}
  },
  {
   "cell_type": "code",
   "execution_count": 53,
   "source": [
    "from pycm import ConfusionMatrix\n",
    "import matplotlib.pyplot as plt"
   ],
   "outputs": [],
   "metadata": {}
  },
  {
   "cell_type": "code",
   "execution_count": 54,
   "source": [
    "y_pred = pipe.predict(test_df.smiles.values)\n",
    "y_actu = test_df.Y.values\n",
    "cm = ConfusionMatrix(actual_vector=y_actu, predict_vector=y_pred) # Create CM From Data\n",
    "cm.plot(cmap=plt.cm.Blues, normalized=True, number_label=True)"
   ],
   "outputs": [
    {
     "output_type": "execute_result",
     "data": {
      "text/plain": [
       "<AxesSubplot:title={'center':'Confusion Matrix (Normalized)'}, xlabel='Predicted Classes', ylabel='Actual Classes'>"
      ]
     },
     "metadata": {},
     "execution_count": 54
    },
    {
     "output_type": "display_data",
     "data": {
      "image/png": "[encoded data removed]",
      "text/plain": [
       "<Figure size 432x288 with 2 Axes>"
      ]
     },
     "metadata": {
      "needs_background": "light"
     }
    }
   ],
   "metadata": {}
  },
  {
   "cell_type": "code",
   "execution_count": 69,
   "source": [
    "pretrained_model = ModelWrapper(pipe)\t# Wrap the model to make it framework agnostic\n",
    "nc = ClassifierNC(pretrained_model, err_func=MarginErrFunc())\t# Create a default nonconformity function\n",
    "icp = ICPClassifier(nc)\t # Create an inductive conformal classifier\n",
    "icp.calibrate(calib_df.smiles.values, calib_df.Y.values)\n"
   ],
   "outputs": [],
   "metadata": {}
  },
  {
   "cell_type": "code",
   "execution_count": 68,
   "source": [
    "train_data = mol_transformer(train_df.smiles)\n",
    "test_data = mol_transformer(test_df.smiles)"
   ],
   "outputs": [],
   "metadata": {}
  },
  {
   "cell_type": "code",
   "execution_count": 126,
   "source": [
    "from c3pO.utils import coverage\n",
    "\n",
    "icp_predict = icp.predict(test_df.smiles, significance=0.05)\n",
    "icp_predict_conf = icp.predict_conf(test_df.smiles)"
   ],
   "outputs": [],
   "metadata": {}
  },
  {
   "cell_type": "code",
   "execution_count": 137,
   "source": [
    "coverage(icp_predict, test_df.Y.values)"
   ],
   "outputs": [
    {
     "output_type": "execute_result",
     "data": {
      "text/plain": [
       "0.9299610894941635"
      ]
     },
     "metadata": {},
     "execution_count": 137
    }
   ],
   "metadata": {}
  },
  {
   "cell_type": "code",
   "execution_count": 122,
   "source": [
    "from sklearn.metrics import accuracy_score\n",
    "\n",
    "accuracy_score(pipe.predict(test_df.smiles.values), test_df.Y.values)"
   ],
   "outputs": [
    {
     "output_type": "execute_result",
     "data": {
      "text/plain": [
       "0.8638132295719845"
      ]
     },
     "metadata": {},
     "execution_count": 122
    }
   ],
   "metadata": {}
  },
  {
   "cell_type": "code",
   "execution_count": 98,
   "source": [
    "import scipy.spatial as ss\n",
    "dist_mat = ss.distance.cdist(test_data, train_data, metric=\"correlation\")"
   ],
   "outputs": [],
   "metadata": {}
  },
  {
   "cell_type": "code",
   "execution_count": 100,
   "source": [
    "import pandas as pd\n",
    "df = pd.DataFrame(icp_predict, columns=[\"label\", \"confidence\", \"credibility\"])"
   ],
   "outputs": [],
   "metadata": {}
  },
  {
   "cell_type": "code",
   "execution_count": 109,
   "source": [
    "df[\"dist\"] = dist_mat.mean(axis=1)\n",
    "dist_mat"
   ],
   "outputs": [
    {
     "output_type": "execute_result",
     "data": {
      "text/plain": [
       "array([[0.23454436, 0.04506749, 0.71149861, ..., 0.11303177, 0.85732589,\n",
       "        0.31654112],\n",
       "       [0.21135318, 0.04179225, 0.72244625, ..., 0.09949844, 0.87592094,\n",
       "        0.29465988],\n",
       "       [0.17664227, 0.04399721, 0.72954985, ..., 0.06670615, 0.89111331,\n",
       "        0.28246719],\n",
       "       ...,\n",
       "       [0.80730091, 0.9377494 , 0.03447844, ..., 0.95635822, 0.00128056,\n",
       "        0.54495169],\n",
       "       [0.80723633, 0.937704  , 0.03446095, ..., 0.95630563, 0.00127718,\n",
       "        0.54489112],\n",
       "       [0.80720756, 0.93767523, 0.03445323, ..., 0.95627784, 0.00127559,\n",
       "        0.54486462]])"
      ]
     },
     "metadata": {},
     "execution_count": 109
    }
   ],
   "metadata": {}
  },
  {
   "cell_type": "code",
   "execution_count": 110,
   "source": [
    "df"
   ],
   "outputs": [
    {
     "output_type": "execute_result",
     "data": {
      "text/html": [
       "<div>\n",
       "<style scoped>\n",
       "    .dataframe tbody tr th:only-of-type {\n",
       "        vertical-align: middle;\n",
       "    }\n",
       "\n",
       "    .dataframe tbody tr th {\n",
       "        vertical-align: top;\n",
       "    }\n",
       "\n",
       "    .dataframe thead th {\n",
       "        text-align: right;\n",
       "    }\n",
       "</style>\n",
       "<table border=\"1\" class=\"dataframe\">\n",
       "  <thead>\n",
       "    <tr style=\"text-align: right;\">\n",
       "      <th></th>\n",
       "      <th>label</th>\n",
       "      <th>confidence</th>\n",
       "      <th>credibility</th>\n",
       "      <th>dist</th>\n",
       "    </tr>\n",
       "  </thead>\n",
       "  <tbody>\n",
       "    <tr>\n",
       "      <th>0</th>\n",
       "      <td>0.0</td>\n",
       "      <td>0.987109</td>\n",
       "      <td>0.600541</td>\n",
       "      <td>0.473977</td>\n",
       "    </tr>\n",
       "    <tr>\n",
       "      <th>1</th>\n",
       "      <td>0.0</td>\n",
       "      <td>0.977588</td>\n",
       "      <td>0.480742</td>\n",
       "      <td>0.475166</td>\n",
       "    </tr>\n",
       "    <tr>\n",
       "      <th>2</th>\n",
       "      <td>1.0</td>\n",
       "      <td>0.981851</td>\n",
       "      <td>0.570454</td>\n",
       "      <td>0.477022</td>\n",
       "    </tr>\n",
       "    <tr>\n",
       "      <th>3</th>\n",
       "      <td>1.0</td>\n",
       "      <td>0.943282</td>\n",
       "      <td>0.346029</td>\n",
       "      <td>0.395919</td>\n",
       "    </tr>\n",
       "    <tr>\n",
       "      <th>4</th>\n",
       "      <td>1.0</td>\n",
       "      <td>0.985121</td>\n",
       "      <td>0.581271</td>\n",
       "      <td>0.475222</td>\n",
       "    </tr>\n",
       "    <tr>\n",
       "      <th>...</th>\n",
       "      <td>...</td>\n",
       "      <td>...</td>\n",
       "      <td>...</td>\n",
       "      <td>...</td>\n",
       "    </tr>\n",
       "    <tr>\n",
       "      <th>252</th>\n",
       "      <td>0.0</td>\n",
       "      <td>0.998148</td>\n",
       "      <td>0.972259</td>\n",
       "      <td>0.381444</td>\n",
       "    </tr>\n",
       "    <tr>\n",
       "      <th>253</th>\n",
       "      <td>0.0</td>\n",
       "      <td>0.986972</td>\n",
       "      <td>0.598650</td>\n",
       "      <td>0.383341</td>\n",
       "    </tr>\n",
       "    <tr>\n",
       "      <th>254</th>\n",
       "      <td>0.0</td>\n",
       "      <td>0.911512</td>\n",
       "      <td>0.246396</td>\n",
       "      <td>0.383441</td>\n",
       "    </tr>\n",
       "    <tr>\n",
       "      <th>255</th>\n",
       "      <td>0.0</td>\n",
       "      <td>0.969282</td>\n",
       "      <td>0.431030</td>\n",
       "      <td>0.383408</td>\n",
       "    </tr>\n",
       "    <tr>\n",
       "      <th>256</th>\n",
       "      <td>0.0</td>\n",
       "      <td>0.996691</td>\n",
       "      <td>0.893425</td>\n",
       "      <td>0.383392</td>\n",
       "    </tr>\n",
       "  </tbody>\n",
       "</table>\n",
       "<p>257 rows × 4 columns</p>\n",
       "</div>"
      ],
      "text/plain": [
       "     label  confidence  credibility      dist\n",
       "0      0.0    0.987109     0.600541  0.473977\n",
       "1      0.0    0.977588     0.480742  0.475166\n",
       "2      1.0    0.981851     0.570454  0.477022\n",
       "3      1.0    0.943282     0.346029  0.395919\n",
       "4      1.0    0.985121     0.581271  0.475222\n",
       "..     ...         ...          ...       ...\n",
       "252    0.0    0.998148     0.972259  0.381444\n",
       "253    0.0    0.986972     0.598650  0.383341\n",
       "254    0.0    0.911512     0.246396  0.383441\n",
       "255    0.0    0.969282     0.431030  0.383408\n",
       "256    0.0    0.996691     0.893425  0.383392\n",
       "\n",
       "[257 rows x 4 columns]"
      ]
     },
     "metadata": {},
     "execution_count": 110
    }
   ],
   "metadata": {}
  },
  {
   "cell_type": "code",
   "execution_count": 111,
   "source": [
    "import seaborn as sns\n",
    "\n",
    "sns.scatterplot(x=\"dist\", y=\"confidence\", data=df)"
   ],
   "outputs": [
    {
     "output_type": "execute_result",
     "data": {
      "text/plain": [
       "<AxesSubplot:xlabel='dist', ylabel='confidence'>"
      ]
     },
     "metadata": {},
     "execution_count": 111
    },
    {
     "output_type": "display_data",
     "data": {
      "image/png": "[encoded data removed]",
      "text/plain": [
       "<Figure size 432x288 with 1 Axes>"
      ]
     },
     "metadata": {
      "needs_background": "light"
     }
    }
   ],
   "metadata": {}
  },
  {
   "cell_type": "code",
   "execution_count": 112,
   "source": [
    "import seaborn as sns\n",
    "\n",
    "sns.scatterplot(x=\"dist\", y=\"credibility\", data=df)"
   ],
   "outputs": [
    {
     "output_type": "execute_result",
     "data": {
      "text/plain": [
       "<AxesSubplot:xlabel='dist', ylabel='credibility'>"
      ]
     },
     "metadata": {},
     "execution_count": 112
    },
    {
     "output_type": "display_data",
     "data": {
      "image/png": "[encoded data removed]",
      "text/plain": [
       "<Figure size 432x288 with 1 Axes>"
      ]
     },
     "metadata": {
      "needs_background": "light"
     }
    }
   ],
   "metadata": {}
  }
 ],
 "metadata": {
  "orig_nbformat": 4,
  "language_info": {
   "name": "python",
   "version": "3.7.8",
   "mimetype": "text/x-python",
   "codemirror_mode": {
    "name": "ipython",
    "version": 3
   },
   "pygments_lexer": "ipython3",
   "nbconvert_exporter": "python",
   "file_extension": ".py"
  },
  "kernelspec": {
   "name": "python3",
   "display_name": "Python 3.7.8 64-bit ('base': conda)"
  },
  "interpreter": {
   "hash": "44ade6f964e12459044365d1f67e0df8eff1c4239e79dfd256bdc37a00986a47"
  }
 },
 "nbformat": 4,
 "nbformat_minor": 2
}